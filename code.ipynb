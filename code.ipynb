{
 "cells": [
  {
   "cell_type": "markdown",
   "id": "1849dbe7",
   "metadata": {},
   "source": [
    "Firewall Device used at Firat University. In this report, I will compare and contrast the five supervised learning algorithm in terms of learning curve, model complexity, the time it takes to execute. I will also do parameter tunning for each of the algorithms to improve the performance. Exploratory data analysis will also be done on both datasets."
   ]
  },
  {
   "attachments": {},
   "cell_type": "markdown",
   "id": "107a8f34",
   "metadata": {},
   "source": [
    "1. Importing libraries"
   ]
  },
  {
   "cell_type": "code",
   "execution_count": null,
   "id": "fd061df0",
   "metadata": {},
   "outputs": [],
   "source": [
    "import pandas as pd\n",
    "import numpy as np\n",
    "from sklearn.model_selection import train_test_split\n",
    "from sklearn.neighbors import KNeighborsClassifier\n",
    "from sklearn.metrics import (accuracy_score,\n",
    "                             f1_score,\n",
    "                             classification_report,\n",
    "                             roc_auc_score,\n",
    "                             confusion_matrix,\n",
    "                             ConfusionMatrixDisplay)\n",
    "import scikitplot as skplot\n",
    "import matplotlib.pyplot as plt\n",
    "import seaborn as sns\n",
    "\n"
   ]
  },
  {
   "attachments": {},
   "cell_type": "markdown",
   "id": "50ed3e74",
   "metadata": {},
   "source": [
    "2. Reading dataset"
   ]
  },
  {
   "cell_type": "code",
   "execution_count": null,
   "id": "fcc201b8",
   "metadata": {},
   "outputs": [],
   "source": [
    "df = pd.read_csv(\"dataset.csv\")"
   ]
  },
  {
   "attachments": {},
   "cell_type": "markdown",
   "id": "172e5aab",
   "metadata": {},
   "source": [
    "Take a look at the dataset"
   ]
  },
  {
   "cell_type": "code",
   "execution_count": null,
   "id": "8015a82d",
   "metadata": {},
   "outputs": [],
   "source": [
    "df.head()"
   ]
  },
  {
   "cell_type": "code",
   "execution_count": null,
   "id": "05e07cbc",
   "metadata": {},
   "outputs": [],
   "source": [
    "df.shape"
   ]
  },
  {
   "cell_type": "code",
   "execution_count": null,
   "id": "d1d8a38f",
   "metadata": {},
   "outputs": [],
   "source": [
    "df.isnull().sum()\n"
   ]
  },
  {
   "attachments": {},
   "cell_type": "markdown",
   "id": "6c7a9ceb",
   "metadata": {},
   "source": [
    "No null values"
   ]
  },
  {
   "attachments": {},
   "cell_type": "markdown",
   "id": "0962d4b6",
   "metadata": {},
   "source": [
    "3. Exploratory Data Analysis for Customer Churn Prediction\n",
    "\n",
    "I will perform some exploratory data analysis to gain a better understanding of the independent variables in the dataset and their relationship with customer churn.  I will begin by looking at the dataset"
   ]
  },
  {
   "cell_type": "code",
   "execution_count": null,
   "id": "d2f23404",
   "metadata": {},
   "outputs": [],
   "source": [
    "df.info()"
   ]
  },
  {
   "attachments": {},
   "cell_type": "markdown",
   "id": "3899be83",
   "metadata": {},
   "source": [
    "Dataset Features: \n",
    "Firstly, log records are received via the firewall. The Log records used were taken from the Palo Alto 5020 Firewall device used at Firat University. The receiving log record consists of 65532 records and is obtained as a recording result of approximately 30 seconds. In the receiving log, the attributes are taken with importance to port, byte, packet and time information. the target feature is Action. The class has the action attribute with “allow”, “deny”, “drop” and “reset-both” values\n",
    "\n",
    "\n",
    "Source Port: The port the client application is originating traffic\n",
    "Destination Port: The port on which the destination application is listening on\n",
    "NAT Source Port: Network address translation Source port\n",
    "NAT Destination Port: Network address translation destination port\n",
    "Action: The actions the firewall performs based on the analysis of the traffic. The class is allow, deny, drop, reset-both\n",
    "Bytes:Total traffic in bytes\n",
    "Bytes Sent: total traffic sent in byte\n",
    "Bytes Received: total traffic received in byte\n",
    "Packets: Total packet in volve \n",
    "Elapsed Time (sec): Elapsed time for the flow in seconds\n",
    "pkts_sent: total packet sent\n",
    "pkts_received: total packet received\n",
    "\n",
    "There are 4 classes in the action attribute used as a class. They are described below\n",
    "Allow: Allow the traffic\n",
    "Deny: Block the traffice and enforces the defualt Deny Action defined for the application that is being denied\n",
    "Drop:Silently drops the traffic; for an application, it overides the defualt deny action. ATCP reset is not sent to the host/application\n",
    "Reset-Both: Sends a TCP reset to both the client-side and server sice devices\n",
    "\n",
    "\n",
    "  \n"
   ]
  },
  {
   "attachments": {},
   "cell_type": "markdown",
   "id": "bda299c6",
   "metadata": {},
   "source": [
    "3.1 Target Distribution"
   ]
  },
  {
   "cell_type": "code",
   "execution_count": null,
   "id": "497a3680",
   "metadata": {},
   "outputs": [],
   "source": [
    "# target distribution\n",
    "print('Absolute Frequencies:')\n",
    "print(df.Action.value_counts())\n",
    "print()\n",
    "\n",
    "print('Percentages:')\n",
    "print(df.Action.value_counts(normalize=True)*100)\n",
    "\n",
    "df.Action.value_counts().plot(kind='bar')\n",
    "plt.title('Target (Action)')\n",
    "plt.grid()\n",
    "plt.show()\n"
   ]
  },
  {
   "attachments": {},
   "cell_type": "markdown",
   "id": "b45b7b73",
   "metadata": {},
   "source": [
    "3.2 Feature Exploration"
   ]
  },
  {
   "attachments": {},
   "cell_type": "markdown",
   "id": "fbed8e91",
   "metadata": {},
   "source": [
    "3.2.1 Numerical features"
   ]
  },
  {
   "cell_type": "code",
   "execution_count": null,
   "id": "779d5a49",
   "metadata": {},
   "outputs": [],
   "source": [
    "# list of Numerical feactures\n",
    "features_num = ['Bytes', 'Bytes Sent', 'Bytes Received',\n",
    "                'Packets', 'Elapsed Time (sec)',\n",
    "                'pkts_sent', 'pkts_received']\n",
    "\n",
    "# define log transformation for numerical features\n",
    "\n",
    "def num_transfo(x):\n",
    "    return np.log10(1+x)\n",
    "\n",
    "\n",
    "# plot distribution of numerical features\n",
    "for f in features_num:\n",
    "    fig, (ax1, ax2) = plt.subplots(2, 1, figsize=(11, 7), sharex=True)\n",
    "    ax1.hist(num_transfo(df[f]), bins=20)\n",
    "    ax1.grid()\n",
    "    ax1.set_title('Feature: ' + f + ' - transfo [log_10(1+x)]')\n",
    "    ax2.boxplot(num_transfo(df[f]), vert=False)\n",
    "    ax2.grid()\n",
    "    ax2.set_title('Feature: ' + f + ' - transfo [log_10(1+x)]')\n",
    "    plt.show()\n",
    "\n"
   ]
  },
  {
   "attachments": {},
   "cell_type": "markdown",
   "id": "b4ce213f",
   "metadata": {},
   "source": [
    "3.2.2 Categorical Features"
   ]
  },
  {
   "cell_type": "code",
   "execution_count": null,
   "id": "d0e61d48",
   "metadata": {},
   "outputs": [],
   "source": [
    "features_cat = ['Source Port', 'Destination Port',\n",
    "                'NAT Source Port', 'NAT Destination Port']\n",
    "\n",
    "# show only top 10 levels for each feature\n",
    "for f in features_cat:\n",
    "    print('Feature:', f)\n",
    "    print(df[f].value_counts()[0:10])\n",
    "    print()\n",
    "    df[f].value_counts()[0:10].plot(kind='bar')\n",
    "    plt.title(f)\n",
    "    plt.grid()\n",
    "    plt.show()\n"
   ]
  },
  {
   "attachments": {},
   "cell_type": "markdown",
   "id": "f6e2eeb1",
   "metadata": {},
   "source": [
    "3.3 Target vs Features"
   ]
  },
  {
   "attachments": {},
   "cell_type": "markdown",
   "id": "97ac49a7",
   "metadata": {},
   "source": [
    "3.3.1 target vs Numerical Features"
   ]
  },
  {
   "cell_type": "code",
   "execution_count": null,
   "id": "50a96a5e",
   "metadata": {},
   "outputs": [],
   "source": [
    "# add transformations of numerical features\n",
    "for f in features_num:\n",
    "    new_feature = f + '_transfo'\n",
    "    df[new_feature] = num_transfo(df[f])\n",
    "\n",
    "features_num_transfo = [f+'_transfo' for f in features_num]\n",
    "\n",
    "# plot features distribution by target level\n",
    "for f in features_num_transfo:  # use transformed features for plot\n",
    "    plt.figure(figsize=(10, 6))\n",
    "    sns.violinplot(x=f, y='Action', data=df)\n",
    "    my_title = 'Distribution by Action for ' + f\n",
    "    plt.title(my_title)\n",
    "    plt.grid()"
   ]
  },
  {
   "attachments": {},
   "cell_type": "markdown",
   "id": "acf7d0d9",
   "metadata": {},
   "source": [
    "3.3.2 target vs Categorical Features Heatmap for top 20 levels only"
   ]
  },
  {
   "cell_type": "code",
   "execution_count": null,
   "id": "ad07466e",
   "metadata": {},
   "outputs": [],
   "source": [
    "# visualize crosstable target vs feature (using top 10 levels only)\n",
    "for f in features_cat:\n",
    "    top10_levels = df[f].value_counts()[0:10].index.to_list()\n",
    "    df_temp = df[df[f].isin(top10_levels)]\n",
    "    ctab = pd.crosstab(df_temp.Action, df_temp[f])\n",
    "    print('Feature:' + f + ' - Top 10 levels only')\n",
    "    plt.figure(figsize=(12, 5))\n",
    "    sns.heatmap(ctab, annot=True, fmt='d',\n",
    "                cmap='Blues',\n",
    "                linecolor='black',\n",
    "                linewidths=0.1)\n",
    "    plt.show()\n"
   ]
  },
  {
   "attachments": {},
   "cell_type": "markdown",
   "id": "d69772ab",
   "metadata": {},
   "source": [
    "3.4 Source/Destination plots split by target"
   ]
  },
  {
   "attachments": {},
   "cell_type": "markdown",
   "id": "1c7522a3",
   "metadata": {},
   "source": [
    "3.4.1  Source Port/Destination Port plots split by target"
   ]
  },
  {
   "cell_type": "code",
   "execution_count": null,
   "id": "0c65f7eb",
   "metadata": {},
   "outputs": [],
   "source": [
    "# source/destination plot by Action\n",
    "xx = 'Source Port'\n",
    "yy = 'Destination Port'\n",
    "\n",
    "fig, axs = plt.subplots(2, 2, sharex=True, sharey=True, figsize=(10, 10))\n",
    "\n",
    "df_temp = df[df.Action == 'allow']\n",
    "axs[0, 0].scatter(df_temp[xx], df_temp[yy], alpha=0.05)\n",
    "axs[0, 0].set_title('Action = allow')\n",
    "axs[0, 0].set_xlabel(xx)\n",
    "axs[0, 0].set_ylabel(yy)\n",
    "axs[0, 0].grid()\n",
    "\n",
    "df_temp = df[df.Action == 'deny']\n",
    "axs[0, 1].scatter(df_temp[xx], df_temp[yy], alpha=0.05)\n",
    "axs[0, 1].set_title('Action = deny')\n",
    "axs[0, 1].set_xlabel(xx)\n",
    "axs[0, 1].set_ylabel(yy)\n",
    "axs[0, 1].grid()\n",
    "\n",
    "df_temp = df[df.Action == 'drop']\n",
    "axs[1, 0].scatter(df_temp[xx], df_temp[yy], alpha=0.5)\n",
    "axs[1, 0].set_title('Action = drop')\n",
    "axs[1, 0].set_xlabel(xx)\n",
    "axs[1, 0].set_ylabel(yy)\n",
    "axs[1, 0].grid()\n",
    "\n",
    "df_temp = df[df.Action == 'reset-both']\n",
    "axs[1, 1].scatter(df_temp[xx], df_temp[yy], alpha=0.5)\n",
    "axs[1, 1].set_title('Action = reset-both')\n",
    "axs[1, 1].set_xlabel(xx)\n",
    "axs[1, 1].set_ylabel(yy)\n",
    "axs[1, 1].grid()\n",
    "\n",
    "plt.show()\n"
   ]
  },
  {
   "attachments": {},
   "cell_type": "markdown",
   "id": "f13641c5",
   "metadata": {},
   "source": [
    "3.4.1  NAT Source Port/NAT Destination Port plots split by target"
   ]
  },
  {
   "cell_type": "code",
   "execution_count": null,
   "id": "cb17fc77",
   "metadata": {},
   "outputs": [],
   "source": [
    "# source/destination plot by Action - NAT (Network Address Translation) version\n",
    "xx = 'NAT Source Port'\n",
    "yy = 'NAT Destination Port'\n",
    "\n",
    "fig, axs = plt.subplots(2, 2, sharex=True, sharey=True, figsize=(10, 10))\n",
    "\n",
    "df_temp = df[df.Action == 'allow']\n",
    "axs[0, 0].scatter(df_temp[xx], df_temp[yy], alpha=0.05)\n",
    "axs[0, 0].set_title('Action = allow')\n",
    "axs[0, 0].set_xlabel(xx)\n",
    "axs[0, 0].set_ylabel(yy)\n",
    "axs[0, 0].grid()\n",
    "\n",
    "df_temp = df[df.Action == 'deny']\n",
    "axs[0, 1].scatter(df_temp[xx], df_temp[yy], alpha=0.5)\n",
    "axs[0, 1].set_title('Action = deny')\n",
    "axs[0, 1].set_xlabel(xx)\n",
    "axs[0, 1].set_ylabel(yy)\n",
    "axs[0, 1].grid()\n",
    "\n",
    "df_temp = df[df.Action == 'drop']\n",
    "axs[1, 0].scatter(df_temp[xx], df_temp[yy], alpha=0.5)\n",
    "axs[1, 0].set_title('Action = drop')\n",
    "axs[1, 0].set_xlabel(xx)\n",
    "axs[1, 0].set_ylabel(yy)\n",
    "axs[1, 0].grid()\n",
    "\n",
    "df_temp = df[df.Action == 'reset-both']\n",
    "axs[1, 1].scatter(df_temp[xx], df_temp[yy], alpha=0.5)\n",
    "axs[1, 1].set_title('Action = reset-both')\n",
    "axs[1, 1].set_xlabel(xx)\n",
    "axs[1, 1].set_ylabel(yy)\n",
    "axs[1, 1].grid()\n",
    "\n",
    "plt.show()\n"
   ]
  },
  {
   "attachments": {},
   "cell_type": "markdown",
   "id": "d4289172",
   "metadata": {},
   "source": [
    "4. Fiting model"
   ]
  },
  {
   "attachments": {},
   "cell_type": "markdown",
   "id": "bff53948",
   "metadata": {},
   "source": [
    "4.1 Train Test Split"
   ]
  },
  {
   "cell_type": "code",
   "execution_count": null,
   "id": "c7088982",
   "metadata": {},
   "outputs": [],
   "source": [
    "X = df.drop('Action', axis=1)\n",
    "y = df.Action\n",
    "\n",
    "X1=X\n",
    "y1 = y"
   ]
  },
  {
   "cell_type": "code",
   "execution_count": null,
   "id": "c1918d96",
   "metadata": {},
   "outputs": [],
   "source": [
    "X.shape"
   ]
  },
  {
   "cell_type": "code",
   "execution_count": null,
   "id": "05bc6d78",
   "metadata": {},
   "outputs": [],
   "source": [
    "X_train, X_test, y_train, y_test = train_test_split(\n",
    "    X, y, test_size=0.3, random_state=0, stratify=y)\n",
    "\n",
    "\n",
    "X_train1 = X_train\n",
    "X_test1 = X_test\n",
    "y_train1 = y_train\n",
    "y_test1 = y_test\n"
   ]
  },
  {
   "cell_type": "code",
   "execution_count": null,
   "id": "3d7d2095",
   "metadata": {},
   "outputs": [],
   "source": [
    "print(\"X_train shape: {}\".format(X_train.shape))\n",
    "print(\"y_train shape: {}\".format(y_train.shape))\n"
   ]
  },
  {
   "cell_type": "code",
   "execution_count": null,
   "id": "7f62bdfe",
   "metadata": {},
   "outputs": [],
   "source": [
    "print(\"X_test shape: {}\".format(X_test.shape))\n",
    "print(\"y_test shape: {}\".format(y_test.shape))\n"
   ]
  },
  {
   "attachments": {},
   "cell_type": "markdown",
   "id": "052b612c",
   "metadata": {},
   "source": [
    "4.2 Models"
   ]
  },
  {
   "attachments": {},
   "cell_type": "markdown",
   "id": "1208073a",
   "metadata": {},
   "source": [
    "4.2.1 k-nearest neighbors"
   ]
  },
  {
   "cell_type": "code",
   "execution_count": null,
   "id": "8df60389",
   "metadata": {},
   "outputs": [],
   "source": [
    "knn = KNeighborsClassifier()\n",
    "knn.fit(X_train, y_train)\n",
    "# predicting on test data\n",
    "y_pred_knn = knn.predict(X_test)\n",
    "# predicting on training data\n",
    "X_pred_knn = knn.predict(X_train)\n"
   ]
  },
  {
   "attachments": {},
   "cell_type": "markdown",
   "id": "81f52d85",
   "metadata": {},
   "source": [
    "Comparison of training and test accuracy as a function of n_neighbors"
   ]
  },
  {
   "cell_type": "code",
   "execution_count": null,
   "id": "095838ff",
   "metadata": {},
   "outputs": [],
   "source": [
    "training_accuracy = []\n",
    "test_accuracy = []\n",
    "neighbors_settings = range(1, 11)\n",
    "for n_neighbors in neighbors_settings:\n",
    "    knn = KNeighborsClassifier(n_neighbors=n_neighbors)\n",
    "    knn.fit(X_train, y_train)\n",
    "    training_accuracy.append(knn.score(X_train, y_train))\n",
    "    test_accuracy.append(knn.score(X_test, y_test))\n",
    "plt.plot(neighbors_settings, training_accuracy, label=\"training accuracy\")\n",
    "plt.plot(neighbors_settings, test_accuracy, label=\"test accuracy\")\n",
    "plt.ylabel(\"Accuracy\")\n",
    "plt.xlabel(\"n_neighbors\")\n",
    "plt.legend()"
   ]
  },
  {
   "attachments": {},
   "cell_type": "markdown",
   "id": "e02d467b",
   "metadata": {},
   "source": [
    "Determining the best K value"
   ]
  },
  {
   "cell_type": "code",
   "execution_count": null,
   "id": "850c9918",
   "metadata": {},
   "outputs": [],
   "source": [
    "from sklearn.model_selection import GridSearchCV\n",
    "params = {'n_neighbors':[2,3,4,5,6,7,8,9, 10]}\n",
    "knn = KNeighborsClassifier()\n",
    "model = GridSearchCV(knn, params, cv=5)\n",
    "model.fit(X_train, y_train)\n",
    "model.best_params_\n"
   ]
  },
  {
   "attachments": {},
   "cell_type": "markdown",
   "id": "2d5387b3",
   "metadata": {},
   "source": [
    "Using K value of 3 "
   ]
  },
  {
   "cell_type": "code",
   "execution_count": null,
   "id": "07759033",
   "metadata": {},
   "outputs": [],
   "source": [
    "knn = KNeighborsClassifier(n_neighbors=3)\n",
    "knn.fit(X_train, y_train)\n",
    "# predicting on test data\n",
    "y_pred_knn = knn.predict(X_test)\n",
    "# predicting on training data\n",
    "X_pred_knn = knn.predict(X_train)\n"
   ]
  },
  {
   "cell_type": "code",
   "execution_count": null,
   "id": "5bafe197",
   "metadata": {},
   "outputs": [],
   "source": [
    "print('---------------------------------------------------------')\n",
    "print('****************** KNN Classification ******************')\n",
    "print('Classes: ', knn.classes_)\n",
    "print('Effective Metric: ', knn.effective_metric_)\n",
    "print('Effective Metric Params: ', knn.effective_metric_params_)\n",
    "print('No. of Samples Fit: ', knn.n_samples_fit_)\n",
    "# print('Outputs 2D: ', clf.outputs_2d_)\n",
    "# print('--------------------------------------------------------')\n",
    "print(\"\")\n",
    "\n",
    "print('*************** Evaluation on Test Data ***************')\n",
    "scoreC_te = knn.score(X_test, y_test)\n",
    "print('Accuracy Score: ', scoreC_te)\n",
    "# Look at classification report to evaluate the model\n",
    "print(classification_report(y_test, y_pred_knn))\n",
    "# print('--------------------------------------------------------')\n",
    "print(\"\")\n",
    "\n",
    "print('*************** Evaluation on Training Data ***************')\n",
    "scoreC_tr = knn.score(X_train, y_train)\n",
    "print('Accuracy Score: ', scoreC_tr)\n",
    "# Look at classification report to evaluate the model\n",
    "print(classification_report(y_train, X_pred_knn))\n",
    "print('---------------------------------------------------------')\n",
    "\n",
    "\n"
   ]
  },
  {
   "attachments": {},
   "cell_type": "markdown",
   "id": "3bcc799c",
   "metadata": {},
   "source": [
    "Confusion matrix"
   ]
  },
  {
   "cell_type": "code",
   "execution_count": null,
   "id": "43286d10",
   "metadata": {},
   "outputs": [],
   "source": [
    "skplot.metrics.plot_confusion_matrix(y_test,y_pred_knn)"
   ]
  },
  {
   "attachments": {},
   "cell_type": "markdown",
   "id": "afd7b2d8",
   "metadata": {},
   "source": [
    "4.2.2 Decision Tree"
   ]
  },
  {
   "attachments": {},
   "cell_type": "markdown",
   "id": "400490ff",
   "metadata": {},
   "source": [
    "encoding the categorical value Action"
   ]
  },
  {
   "cell_type": "code",
   "execution_count": null,
   "id": "4274d67d",
   "metadata": {},
   "outputs": [],
   "source": [
    "from sklearn import preprocessing\n",
    "\n",
    "cat =  ['Action']\n",
    "le = preprocessing.LabelEncoder()\n",
    "for i in cat:\n",
    "    df[i] = le.fit_transform(df[i])\n",
    "\n",
    "df.head()\n"
   ]
  },
  {
   "attachments": {},
   "cell_type": "markdown",
   "id": "ac491a8b",
   "metadata": {},
   "source": [
    "Test split"
   ]
  },
  {
   "cell_type": "code",
   "execution_count": null,
   "id": "eeb91bc7",
   "metadata": {},
   "outputs": [],
   "source": [
    "X = df.drop('Action', axis=1)\n",
    "y = df.Action\n",
    "X_train, X_test, y_train, y_test = train_test_split(\n",
    "    X, y, test_size=0.3, random_state=0, stratify=y)\n"
   ]
  },
  {
   "cell_type": "code",
   "execution_count": null,
   "id": "846f8b73",
   "metadata": {},
   "outputs": [],
   "source": [
    "### DECISION TREE CLASSIFIER\n",
    "from sklearn.tree import DecisionTreeClassifier\n",
    "dtree_p = DecisionTreeClassifier()\n",
    "dtree_p.fit(X_train, y_train)\n",
    "y_pred_dt = dtree_p.predict(X_test)\n",
    "print(classification_report(y_test,y_pred_dt))\n",
    "\n",
    "skplot.metrics.plot_confusion_matrix(y_test,y_pred_dt)"
   ]
  },
  {
   "attachments": {},
   "cell_type": "markdown",
   "id": "95c48d8e",
   "metadata": {},
   "source": [
    "tree before prunning"
   ]
  },
  {
   "cell_type": "code",
   "execution_count": null,
   "id": "a7f13e60",
   "metadata": {},
   "outputs": [],
   "source": [
    "from sklearn.tree import export_graphviz\n",
    "from six import StringIO\n",
    "from IPython.display import Image\n",
    "import pydotplus\n",
    "dot_data = StringIO()\n",
    "export_graphviz(dtree_p, out_file=dot_data)\n",
    "graph = pydotplus.graph_from_dot_data(dot_data.getvalue())\n",
    "graph.write_png(\n",
    "    '/Users/Felix Delali Adigbli/OneDrive - Northeastern University/Spring 2023/Info6105/assignment2/tree.png')\n",
    "Image(graph.create_png())\n"
   ]
  },
  {
   "attachments": {},
   "cell_type": "markdown",
   "id": "266eb63b",
   "metadata": {},
   "source": [
    "Fitting after pruning"
   ]
  },
  {
   "cell_type": "code",
   "execution_count": null,
   "id": "b41e736a",
   "metadata": {},
   "outputs": [],
   "source": [
    "dtree_p = DecisionTreeClassifier(criterion = \"gini\", splitter = 'random', max_leaf_nodes = 10, min_samples_leaf = 5, max_depth= 5)\n",
    "dtree_p.fit(X_train,y_train)"
   ]
  },
  {
   "cell_type": "code",
   "execution_count": null,
   "id": "90c0b225",
   "metadata": {},
   "outputs": [],
   "source": [
    "dtree_p.fit(X_train, y_train)\n",
    "y_pred_dt = dtree_p.predict(X_test)\n",
    "print(classification_report(y_test,y_pred_dt))\n",
    "\n",
    "skplot.metrics.plot_confusion_matrix(y_test,y_pred_dt)\n",
    "print(\"Accuracy on training set after parameter tunning: {:.2f}\".format(\n",
    "    dtree_p.score(X_train, y_train)))\n",
    "print(\"Accuracy on test set after parameter tunning: {:.2f}\".format(\n",
    "    dtree_p.score(X_test, y_test)))\n"
   ]
  },
  {
   "attachments": {},
   "cell_type": "markdown",
   "id": "f2b5e8a9",
   "metadata": {},
   "source": [
    "the treeafter model fitting\n"
   ]
  },
  {
   "cell_type": "code",
   "execution_count": null,
   "id": "0802836b",
   "metadata": {},
   "outputs": [],
   "source": [
    "dot_data = StringIO()\n",
    "export_graphviz(dtree_p, out_file=dot_data)\n",
    "graph = pydotplus.graph_from_dot_data(dot_data.getvalue())\n",
    "graph.write_png(\n",
    "    '/Users/Felix Delali Adigbli/OneDrive - Northeastern University/Spring 2023/Info6105/assignment2/treeafter1.png')\n",
    "Image(graph.create_png())"
   ]
  },
  {
   "cell_type": "code",
   "execution_count": null,
   "id": "c30cb71c",
   "metadata": {},
   "outputs": [],
   "source": []
  },
  {
   "cell_type": "code",
   "execution_count": null,
   "id": "9e93e39c",
   "metadata": {},
   "outputs": [],
   "source": [
    "X = X1\n",
    "y = y1\n",
    "\n",
    "X_train = X_train1\n",
    "X_test = X_test1\n",
    "y_train = y_train1\n",
    "y_test = y_test1\n"
   ]
  },
  {
   "attachments": {},
   "cell_type": "markdown",
   "id": "c93c6b98",
   "metadata": {},
   "source": [
    "4.2.3 Boosting"
   ]
  },
  {
   "attachments": {},
   "cell_type": "markdown",
   "id": "53be67b5",
   "metadata": {},
   "source": [
    "I will use Gradient boosted regression trees (gradient boosting machines) for the boosting of decision tree."
   ]
  },
  {
   "cell_type": "code",
   "execution_count": null,
   "id": "57a6cd55",
   "metadata": {},
   "outputs": [],
   "source": [
    "from sklearn.ensemble import GradientBoostingClassifier\n",
    "gbrt = GradientBoostingClassifier(random_state=0)\n",
    "gbrt.fit(X_train, y_train)\n",
    "\n",
    "\n",
    "y_pred_dt = gbrt.predict(X_test)\n",
    "print(classification_report(y_test, y_pred_dt))\n",
    "\n",
    "skplot.metrics.plot_confusion_matrix(y_test, y_pred_dt)\n"
   ]
  },
  {
   "attachments": {},
   "cell_type": "markdown",
   "id": "37e8b6df",
   "metadata": {},
   "source": [
    "SVM"
   ]
  },
  {
   "cell_type": "code",
   "execution_count": null,
   "id": "e0cf1039",
   "metadata": {},
   "outputs": [],
   "source": [
    "from sklearn.svm import SVC # \"Support vector classifier\"\n",
    "\n",
    "SVM_model = SVC(kernel='linear', C=1.0)\n",
    "SVM_model.fit(X_train, y_train)\n",
    "y_pred_svm = SVM_model.predict(X_test)\n",
    "print(classification_report(y_test, y_pred_svm))\n",
    "\n",
    "skplot.metrics.plot_confusion_matrix(y_test, y_pred_svm)\n"
   ]
  },
  {
   "cell_type": "code",
   "execution_count": null,
   "id": "9e2624ee",
   "metadata": {},
   "outputs": [],
   "source": [
    "SVM_model = SVC(kernel=\"rbf\", gamma=0.7, C=1.0)\n",
    "SVM_model.fit(X_train, y_train)\n",
    "y_pred_svm = SVM_model.predict(X_test)\n",
    "print(classification_report(y_test, y_pred_svm))\n",
    "\n",
    "skplot.metrics.plot_confusion_matrix(y_test, y_pred_svm)\n"
   ]
  },
  {
   "attachments": {},
   "cell_type": "markdown",
   "id": "84a8454f",
   "metadata": {},
   "source": [
    "Neural Network\n",
    "\n",
    "using Multilayer perceptrons (MLPs) are also known as (vanilla) feed-forward neural networks\n"
   ]
  },
  {
   "cell_type": "code",
   "execution_count": null,
   "id": "ce1ec360",
   "metadata": {},
   "outputs": [],
   "source": [
    "from sklearn.neural_network import MLPClassifier\n",
    "mlp_model = MLPClassifier(random_state=42)\n",
    "mlp_model.fit(X_train, y_train)\n",
    "y_pred_mlp = mlp_model.predict(X_test)\n",
    "print(classification_report(y_test, y_pred_mlp))\n",
    "\n",
    "skplot.metrics.plot_confusion_matrix(y_test, y_pred_mlp)\n",
    "\n",
    "print(\"Accuracy on training set: {:.2f}\".format(\n",
    "    mlp_model.score(X_train, y_train)))\n",
    "print(\"Accuracy on test set: {:.2f}\".format(mlp_model.score(X_test, y_test)))\n"
   ]
  },
  {
   "cell_type": "code",
   "execution_count": null,
   "id": "8afe8abb",
   "metadata": {},
   "outputs": [],
   "source": [
    "mlp_model = MLPClassifier(max_iter=1000, alpha=1, random_state=0)\n",
    "mlp_model.fit(X_train, y_train)\n",
    "y_pred_mlp = mlp_model.predict(X_test)\n",
    "print(classification_report(y_test, y_pred_mlp))\n",
    "\n",
    "skplot.metrics.plot_confusion_matrix(y_test, y_pred_mlp)\n",
    "\n",
    "print(\"Accuracy on training set: {:.2f}\".format(\n",
    "    mlp_model.score(X_train, y_train)))\n",
    "print(\"Accuracy on test set: {:.2f}\".format(mlp_model.score(X_test, y_test)))\n"
   ]
  },
  {
   "cell_type": "code",
   "execution_count": null,
   "id": "424c0f85",
   "metadata": {},
   "outputs": [],
   "source": [
    "\n",
    "mlp_model = MLPClassifier(solver='lbfgs', random_state=0, max_iter=1000,\n",
    "                          hidden_layer_sizes=[100, 100])\n",
    "mlp_model.fit(X_train, y_train)\n",
    "y_pred_mlp = mlp_model.predict(X_test)\n",
    "print(classification_report(y_test, y_pred_mlp))\n",
    "\n",
    "skplot.metrics.plot_confusion_matrix(y_test, y_pred_mlp)\n",
    "print(\"Accuracy on training set: {:.2f}\".format(\n",
    "    mlp_model.score(X_train, y_train)))\n",
    "print(\"Accuracy on test set: {:.2f}\".format(mlp_model.score(X_test, y_test)))\n"
   ]
  }
 ],
 "metadata": {
  "kernelspec": {
   "display_name": "Python 3 (ipykernel)",
   "language": "python",
   "name": "python3"
  },
  "language_info": {
   "codemirror_mode": {
    "name": "ipython",
    "version": 3
   },
   "file_extension": ".py",
   "mimetype": "text/x-python",
   "name": "python",
   "nbconvert_exporter": "python",
   "pygments_lexer": "ipython3",
   "version": "3.11.1"
  }
 },
 "nbformat": 4,
 "nbformat_minor": 5
}
